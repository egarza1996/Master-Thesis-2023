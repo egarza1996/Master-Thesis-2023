{
 "cells": [
  {
   "cell_type": "markdown",
   "id": "80d65a4c-ad9c-46bf-b23e-79c2cac92477",
   "metadata": {},
   "source": [
    "# Code to save figures using Matplotlib's Cairo\n",
    "## Specifically made for looping through an organoid's .CSV file \"1000um_correlation_vs_distance_data\""
   ]
  },
  {
   "cell_type": "code",
   "execution_count": null,
   "id": "0b1a0fe4-138d-4285-8179-5d3b82858929",
   "metadata": {},
   "outputs": [],
   "source": [
    "import os\n",
    "import pandas as pd\n",
    "import matplotlib.pyplot as plt\n",
    "import matplotlib.font_manager as fm\n",
    "import matplotlib"
   ]
  },
  {
   "cell_type": "code",
   "execution_count": null,
   "id": "7079155a-3ceb-4810-8a88-b8972d59d6d2",
   "metadata": {},
   "outputs": [],
   "source": [
    "# Define the root path and organoid folders\n",
    "root_path = '/home/silviu/erika-organoid-data/CODE/CURRENT-FOLDER/Clustering-Correlation-Distance/loop-new'\n",
    "\n",
    "# Select organoid to analyze\n",
    "organoid_folders = ['organoid9']\n",
    "# organoid_folders = [f'organoid{i}' for i in range(1, 10)]\n",
    "\n",
    "# Mapping of run folders to names and colors\n",
    "full_run_info = {\n",
    "    'run': ('Spontaneous activity', [0, 1, 0]),\n",
    "    'run_1': ('1 msec stim. every 10 sec', [0, 0, 1]),\n",
    "    'run_2': ('50 msec stim. every 20 sec', [1, 0, 0]),\n",
    "    'run_3': ('1 msec stim. every 20 sec', [0, 0.5, 0]),\n",
    "    'run_4': ('100 µL of ketamine', [0, 1, 1]),\n",
    "    'run_5': ('200 µL of ketamine', [1, 0.5, 0])\n",
    "}\n",
    "\n",
    "# Select the runs to analyze\n",
    "run_folders = ['run', 'run_1', 'run_2', 'run_3'] # spontaneous activity and optogenetic conditions\n",
    "# run_folders = ['run', 'run_4', 'run_5'] # spontaneous activity and ketamine conditions\n",
    "# run_folders = ['run', 'run_1', 'run_2', 'run_3', 'run_4', 'run_5'] # all conditions\n",
    "\n",
    "# Initialize variables for run names and colors\n",
    "run_names = [full_run_info[run][0] for run in run_folders]\n",
    "run_colors = [full_run_info[run][1] for run in run_folders]\n",
    "\n",
    "# Save figure settings\n",
    "SAVE_FLAG = True\n",
    "base_save_directory = '/home/silviu/erika-organoid-data/CODE/CURRENT-FOLDER/Clustering-Correlation-Distance/loop-correlation-distance-plots/jupnotebook'\n"
   ]
  },
  {
   "cell_type": "code",
   "execution_count": null,
   "id": "c7975dfb-6196-4660-82da-c6199cfbbf2a",
   "metadata": {},
   "outputs": [],
   "source": [
    "matplotlib.use('cairo') # If you run Cairo before plotting, you will not visualize the figure here but it will get saved"
   ]
  },
  {
   "cell_type": "code",
   "execution_count": null,
   "id": "657e7391-3f9f-49d4-8521-fcdf069eb297",
   "metadata": {},
   "outputs": [],
   "source": [
    "# Main plotting loop\n",
    "for org_idx, organoid_folder in enumerate(organoid_folders, start=1):\n",
    "    if org_idx in [3, 7, 8]:\n",
    "        continue\n",
    "\n",
    "    plt.figure(figsize=(10, 5))\n",
    "\n",
    "    for run_idx, run_folder in enumerate(run_folders):\n",
    "        data_file = os.path.join(root_path, organoid_folder, run_folder, '1000um_correlation_vs_distance_data.csv')\n",
    "        if os.path.isfile(data_file):\n",
    "            data = pd.read_csv(data_file, skiprows=1)\n",
    "            plt.errorbar(data.iloc[:, 0], data.iloc[:, 1], yerr=data.iloc[:, 2], label=run_names[run_idx],\n",
    "                         color=run_colors[run_idx])\n",
    "\n",
    "    plt.xlabel('Distance (µm)')\n",
    "    plt.ylabel('Mean Correlation Coefficient')\n",
    "    plt.title(f'Organoid {org_idx} \\n Comparing Mean Correlation vs. Spatial Distance Between Neurons')\n",
    "    plt.legend()\n",
    "    plt.grid(True)\n",
    "\n",
    "    if SAVE_FLAG:\n",
    "        save_png = os.path.join(base_save_directory, f'{organoid_folder}_comp_corre_dist_all.png')\n",
    "        save_svg = os.path.join(base_save_directory, f'{organoid_folder}_comp_corre_dist_all.svg')\n",
    "        save_pdf = os.path.join(base_save_directory, f'{organoid_folder}_comp_corre_dist_all.pdf')\n",
    "        plt.savefig(save_png)\n",
    "        plt.savefig(save_svg)\n",
    "        plt.savefig(save_pdf)\n",
    "\n",
    "    plt.show()\n"
   ]
  }
 ],
 "metadata": {
  "kernelspec": {
   "display_name": "Python 3 (ipykernel)",
   "language": "python",
   "name": "python3"
  },
  "language_info": {
   "codemirror_mode": {
    "name": "ipython",
    "version": 3
   },
   "file_extension": ".py",
   "mimetype": "text/x-python",
   "name": "python",
   "nbconvert_exporter": "python",
   "pygments_lexer": "ipython3",
   "version": "3.11.4"
  }
 },
 "nbformat": 4,
 "nbformat_minor": 5
}
